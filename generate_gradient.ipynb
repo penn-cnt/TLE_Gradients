{
 "cells": [
  {
   "cell_type": "markdown",
   "id": "96bf6cd2-fd5a-47c3-b8b0-1ab0fe2f3fea",
   "metadata": {},
   "source": [
    "Generate Functional Connectivity Gradients\n",
    "\n",
    "This requires Brainspace - https://brainspace.readthedocs.io/en/latest/"
   ]
  },
  {
   "cell_type": "code",
   "execution_count": null,
   "id": "cfd573de-5ff8-4cde-9234-aa3cc2725111",
   "metadata": {},
   "outputs": [],
   "source": [
    "import numpy as np\n",
    "import nibabel as nib\n",
    "from sklearn.decomposition import PCA\n",
    "from brainspace.gradient import GradientMaps\n",
    "import os\n",
    "import pickle"
   ]
  },
  {
   "cell_type": "markdown",
   "id": "8596cfdf-482f-44fd-a6eb-365e6769d75f",
   "metadata": {},
   "source": [
    "Add the following file paths"
   ]
  },
  {
   "cell_type": "code",
   "execution_count": null,
   "id": "1ccc4b93-65ff-4bf1-a68f-99a5fdaf01d6",
   "metadata": {},
   "outputs": [],
   "source": [
    "sub_mask_path = '/HarvardOxford_Subcortical_Mask.nii.gz' # path to subcortical mask\n",
    "gm_mask_path = '/Gray_Matter_Mask.nii.gz' # path to grey matter mask\n",
    "data_path = '/3T_fMRI_data/' # path to data\n",
    "save_path = '/3T-gradients/' # path to save output\n",
    "\n",
    "example_pt_path = os.path.join(data_path, os.listdir(data_path)[0]) # should be .nii.gz or .nii file"
   ]
  },
  {
   "cell_type": "markdown",
   "id": "289952d8-cae0-4679-acd2-f0f293f9419e",
   "metadata": {},
   "source": [
    "Load masks and patient fMRI"
   ]
  },
  {
   "cell_type": "code",
   "execution_count": null,
   "id": "deff99cd-6ec0-4526-951f-30af0d27e129",
   "metadata": {},
   "outputs": [],
   "source": [
    "sub_mask = nib.load(sub_mask_path).get_fdata()\n",
    "gm_mask = nib.load(gm_mask_path).get_fdata()\n",
    "\n",
    "fmri_data = nib.load(example_pt_path).get_fdata()"
   ]
  },
  {
   "cell_type": "markdown",
   "id": "a7180e8c-76ef-400a-9ba7-07755718500d",
   "metadata": {},
   "source": [
    "Compute Gradient - following https://doi.org/10.1016/j.neuroimage.2017.06.075\n",
    "\n",
    "Extract fMRI time series data in subcortical voxels"
   ]
  },
  {
   "cell_type": "code",
   "execution_count": null,
   "id": "09543420-032a-43b2-b238-0d50caa01978",
   "metadata": {},
   "outputs": [],
   "source": [
    "A = fmri_data[sub_mask==1,:].transpose()"
   ]
  },
  {
   "cell_type": "markdown",
   "id": "8d8ac883-5645-4669-85aa-0900ad96d71e",
   "metadata": {},
   "source": [
    "Extract fMRI time series data in grey matter voxels and reduce dimensionality using PCA"
   ]
  },
  {
   "cell_type": "code",
   "execution_count": null,
   "id": "c6cb05b8-719e-4333-88db-87a96137108d",
   "metadata": {},
   "outputs": [],
   "source": [
    "B = fmri_data[gm_mask==1,:].transpose()\n",
    "pca = PCA(n_components=B.shape[0]-1)\n",
    "B_filt = pca.fit_transform(B)"
   ]
  },
  {
   "cell_type": "markdown",
   "id": "8d3bf00b-27a6-44a0-8c2a-303054226373",
   "metadata": {},
   "source": [
    "Correlate A (subcortical voxels) and B (grey matter voxels) to get C; Filter C to maintain only top 10% connections in each row"
   ]
  },
  {
   "cell_type": "code",
   "execution_count": null,
   "id": "71606076-85ca-4dd3-9b3a-e864e351dfc0",
   "metadata": {},
   "outputs": [],
   "source": [
    "def filter_C(C):\n",
    "    C_filt = np.zeros(C.shape)\n",
    "    for i in range(C.shape[0]):\n",
    "        a = C[i,:]\n",
    "        thresh = np.sort(a)[::-1][int(0.11*len(a))]\n",
    "        C_filt[i,a>thresh] = a[a>thresh]\n",
    "    return C_filt"
   ]
  },
  {
   "cell_type": "code",
   "execution_count": null,
   "id": "32f75e1f-0561-4dc3-bb7a-31a57bcacbae",
   "metadata": {},
   "outputs": [],
   "source": [
    "C = np.arctanh(np.corrcoef(A, B_filt, rowvar=False)[:A.shape[1], A.shape[1]:])\n",
    "C_filt = filter_C(C)"
   ]
  },
  {
   "cell_type": "markdown",
   "id": "fa2bf0c7-6362-45c4-8cd3-a320af457f39",
   "metadata": {},
   "source": [
    "Calculate Similarity Matrix and Gradient Maps using Brainspace"
   ]
  },
  {
   "cell_type": "code",
   "execution_count": null,
   "id": "35292342-8fc3-43ae-a336-e9e6bf100913",
   "metadata": {},
   "outputs": [],
   "source": [
    "similarity_method = 'pearson' # {'pearson', 'spearman', 'cosine', 'normalized_angle', 'gaussian'}\n",
    "gradient_method = 'dm' # {'dm', 'le', 'pca'} for [diffusion maps, laplacian eigenmaps, pca]\n",
    "\n",
    "gm = GradientMaps(n_components=250, approach=gradient_method, kernel=similarity_method, alignment=None)\n",
    "gm.fit(C_filt)\n",
    "\n",
    "out_dict = {'gradient': gm.gradients_, 'lambda': gm.lambdas_}\n",
    "\n",
    "with open(os.path.join(save_path, gradient_method + '_' + similarity_method + '_grad.pickle'), 'wb') as f:\n",
    "    pickle.dump(out_dict, f)"
   ]
  }
 ],
 "metadata": {
  "kernelspec": {
   "display_name": "Python 3",
   "language": "python",
   "name": "python3"
  },
  "language_info": {
   "codemirror_mode": {
    "name": "ipython",
    "version": 3
   },
   "file_extension": ".py",
   "mimetype": "text/x-python",
   "name": "python",
   "nbconvert_exporter": "python",
   "pygments_lexer": "ipython3",
   "version": "3.6.13"
  }
 },
 "nbformat": 4,
 "nbformat_minor": 5
}
