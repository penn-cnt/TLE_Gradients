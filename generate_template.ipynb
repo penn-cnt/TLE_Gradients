{
 "cells": [
  {
   "cell_type": "markdown",
   "id": "169e268d-deef-457f-ac1c-2f7662302bd9",
   "metadata": {},
   "source": [
    "Generate Template for Aligning the Gradients - method from https://doi.org/10.1016/j.neuroimage.2020.117322\n",
    "\n",
    "Summary of method: each patient has an n-voxel by 250 gradient matrix; horizontally stack m patients to get n-voxel by 250*m matrix; extract first 250 components of PCA to get n-voxel by 250 template"
   ]
  },
  {
   "cell_type": "code",
   "execution_count": null,
   "id": "7b1d7917-02af-49ec-a581-3bbd30ca5973",
   "metadata": {},
   "outputs": [],
   "source": [
    "import numpy as np\n",
    "import os\n",
    "import pickle\n",
    "from sklearn.decomposition import PCA"
   ]
  },
  {
   "cell_type": "markdown",
   "id": "f07d8cc5-4485-4e6a-b1c9-5293b10907c9",
   "metadata": {},
   "source": [
    "Add file path for patient gradients"
   ]
  },
  {
   "cell_type": "code",
   "execution_count": null,
   "id": "46b02f96-16b7-4fea-9b59-8156e7bb59b5",
   "metadata": {},
   "outputs": [],
   "source": [
    "data_path = '/dm_pearson/'"
   ]
  },
  {
   "cell_type": "markdown",
   "id": "fb3ab957-70c1-427e-8cf0-be4430d481b6",
   "metadata": {},
   "source": [
    "Load in all gradients"
   ]
  },
  {
   "cell_type": "code",
   "execution_count": null,
   "id": "3dc9fe7c-0632-4bf7-a373-de4b87b929a1",
   "metadata": {},
   "outputs": [],
   "source": [
    "pts = os.listdir(data_path)\n",
    "\n",
    "all_grad = []\n",
    "for pt in pts:\n",
    "    with open(os.path.join(data_path, pt), 'rb') as f:\n",
    "        temp = pickle.load(f)\n",
    "    \n",
    "    all_grad.append(temp['gradient'])\n",
    "\n",
    "stack_grad = np.hstack(all_grad)"
   ]
  },
  {
   "cell_type": "markdown",
   "id": "b6510299-ef9f-46e5-9163-9af9f4c7de5c",
   "metadata": {},
   "source": [
    "Get first 250 components of PCA"
   ]
  },
  {
   "cell_type": "code",
   "execution_count": null,
   "id": "2aa9e2ea-8623-47a7-84e7-d18fcf9243ef",
   "metadata": {},
   "outputs": [],
   "source": [
    "pca = PCA(n_components=250)\n",
    "template = pca.fit_transform(stack_grad)\n",
    "\n",
    "out_dict = {'gradient': template}\n",
    "with open(os.path.join('gradient_template.pickle'), 'wb') as f:\n",
    "    pickle.dump(out_dict, f)"
   ]
  }
 ],
 "metadata": {
  "kernelspec": {
   "display_name": "Python 3",
   "language": "python",
   "name": "python3"
  },
  "language_info": {
   "codemirror_mode": {
    "name": "ipython",
    "version": 3
   },
   "file_extension": ".py",
   "mimetype": "text/x-python",
   "name": "python",
   "nbconvert_exporter": "python",
   "pygments_lexer": "ipython3",
   "version": "3.6.13"
  }
 },
 "nbformat": 4,
 "nbformat_minor": 5
}
