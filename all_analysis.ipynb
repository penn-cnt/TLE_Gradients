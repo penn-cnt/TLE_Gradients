{
 "cells": [
  {
   "cell_type": "markdown",
   "id": "7089af5e-a1a3-4165-b08a-5d7bb7ca4fbf",
   "metadata": {},
   "source": [
    "All Analysis; required helper_functions.py, Brainspace, NeuroCombat (https://github.com/Jfortin1/neuroCombat)"
   ]
  },
  {
   "cell_type": "code",
   "execution_count": null,
   "id": "b2b8a3f1-0753-41ac-b775-9a861614af71",
   "metadata": {},
   "outputs": [],
   "source": [
    "import numpy as np\n",
    "from helper_functions import get_gradients, plot_avg_grad, permute_groups, bhatta, harmonize\n",
    "import nibabel as nib\n",
    "import matplotlib.pyplot as plt\n",
    "import pandas as pd\n",
    "import pickle\n",
    "from sklearn.cluster import KMeans"
   ]
  },
  {
   "cell_type": "markdown",
   "id": "e62c6a1a-24ff-4d32-98a1-c55939005c54",
   "metadata": {},
   "source": [
    "Add following file paths"
   ]
  },
  {
   "cell_type": "code",
   "execution_count": null,
   "id": "ede19c18-d493-4d52-9829-9760d5a1503f",
   "metadata": {},
   "outputs": [],
   "source": [
    "sub_mask_path = '/HarvardOxford_Subcortical_Mask.nii.gz' # path to subcortical mask\n",
    "ho_path = '/HarvardOxfordMNI.nii' # path to harvard oxford segmentation\n",
    "data_path = '/3T-gradients/' # path to gradients (create using generate_gradient.ipynb)\n",
    "template_path = '/gradient_template.pickle' # path to template for aligning gradients (create using generate_template.ipynb)\n",
    "pt_info_path = '/3T_patients.csv' # path to csv of patient information (epilepsy type, lateralization, etc)\n",
    "distance_path = '/distance.pickle' # path to pickle of euclidean distance of voxels"
   ]
  },
  {
   "cell_type": "markdown",
   "id": "dfd15c33-79cc-443c-bfbe-acff9bc8e6cd",
   "metadata": {},
   "source": [
    "Load gradients and masks"
   ]
  },
  {
   "cell_type": "code",
   "execution_count": null,
   "id": "af08af4f-a4ee-42d1-83c0-50b99d85024b",
   "metadata": {},
   "outputs": [],
   "source": [
    "ho = nib.load(ho_path).get_fdata()\n",
    "sub_mask = nib.load(sub_mask_path).get_fdata()\n",
    "roi = ho[sub_mask==1]\n",
    "sub_all = [3011,4012,5013,2010,6017,7018] + [3050,4051,5052,2049,6053,7054] # harvard oxford labels for subcortical regions\n",
    "\n",
    "(hc_grad, ep_L_grad, ep_R_grad) = get_gradients(data_path, template_path, pt_info_path)\n",
    "\n",
    "hc_grad_avg = np.mean(hc_grad, axis=2)\n",
    "ep_L_grad_avg = np.mean(ep_L_grad, axis=2)\n",
    "ep_R_grad_avg = np.mean(ep_R_grad, axis=2)\n",
    "\n",
    "plot_avg_grad(hc_grad_avg, ep_L_grad_avg, ep_R_grad_avg, roi)"
   ]
  },
  {
   "cell_type": "markdown",
   "id": "ecc1e422-f677-40b6-a675-43e39cba589e",
   "metadata": {},
   "source": [
    "Permutation Tests on Bhattacharyya Distance between Ipsilateral and Contralateral Structures in LTLE and RTLE "
   ]
  },
  {
   "cell_type": "code",
   "execution_count": null,
   "id": "c4d0349a-f141-4d1f-9511-0ceddacb6ad3",
   "metadata": {},
   "outputs": [],
   "source": [
    "# calculate true distances between structures\n",
    "true_outcomes = np.zeros(len(sub_all))\n",
    "\n",
    "for j, reg in enumerate(sub_all):\n",
    "    \n",
    "    ep_L_temp = ep_L_grad_avg[roi==reg, 0:2]\n",
    "    \n",
    "    if j >= 6:\n",
    "        ep_R_temp = ep_R_grad_avg[roi==sub_all[j-6], 0:2]\n",
    "    else:\n",
    "        ep_R_temp = ep_R_grad_avg[roi==sub_all[j+6], 0:2]\n",
    "    \n",
    "    true_outcomes[j] = bhatta(ep_R_temp, ep_L_temp)\n",
    "\n",
    "# permute the group labels 1000 times to get distribution of distances\n",
    "perm_count = 1000\n",
    "perm_outcomes = np.zeros((len(sub_all), perm_count))\n",
    "\n",
    "for i in range(perm_count): \n",
    "    \n",
    "    (ep_L_shuffle, ep_R_shuffle) = permute_groups(ep_L_grad[:,0:2,:], ep_R_grad[:,0:2,:])\n",
    "    ep_L_shuffle_avg = np.mean(ep_L_shuffle, axis=2)\n",
    "    ep_R_shuffle_avg = np.mean(ep_R_shuffle, axis=2)\n",
    "\n",
    "    for j, reg in enumerate(sub_all):\n",
    "        \n",
    "        ep_L_temp = ep_L_shuffle_avg[roi==reg, 0:2]\n",
    "        \n",
    "        if j >= 6:\n",
    "            ep_R_temp = ep_R_shuffle_avg[roi==sub_all[j-6], 0:2]\n",
    "        else:\n",
    "            ep_R_temp = ep_R_shuffle_avg[roi==sub_all[j+6], 0:2]\n",
    "        \n",
    "        perm_outcomes[j,i] = bhatta(ep_R_temp, ep_L_temp)\n",
    "\n",
    "perm_sort = np.sort(perm_outcomes, axis=1)\n",
    "\n",
    "# plot the distributions and true values; red line at true value, green line at 95th percentile\n",
    "fig, axs = plt.subplots(12,1, figsize=(5,5*12))\n",
    "for reg in range(12):\n",
    "    name = lab.Label[lab.Index == sub_all[reg]].to_string(index=False)\n",
    "    axs[reg].hist(perm_sort[reg,:], bins=25)\n",
    "    axs[reg].axvline(x=true_outcomes[reg], color='r')\n",
    "    axs[reg].axvline(x=perm_sort[reg, int(.95*perm_outcomes.shape[1])], color='g')\n",
    "    axs[reg].set_title('%s - %s'%(name, titles[1]))\n",
    "plt.show()"
   ]
  },
  {
   "cell_type": "markdown",
   "id": "23be6722-ae7b-4ff0-8f51-e71d75fdc283",
   "metadata": {},
   "source": [
    "Cluster Hippocampi into Anterior and Posterior clusters using inverse Euclidean Distance"
   ]
  },
  {
   "cell_type": "code",
   "execution_count": null,
   "id": "3c51bc12-07b5-4a04-892d-1df2c6d5d46a",
   "metadata": {},
   "outputs": [],
   "source": [
    "hippos = [6017, 6053]\n",
    "\n",
    "# get voxel locations of only hippocampus to save computationally\n",
    "roi_vals = np.zeros(roi.shape)\n",
    "for reg in hippos:\n",
    "    roi_vals += (roi == reg).astype(int) * reg\n",
    "roi_rel = roi_vals[roi_vals != 0]\n",
    "\n",
    "with open(distance_path, 'rb') as f:\n",
    "    out = pickle.load(f)\n",
    "    space = out['dist'][roi_vals != 0, :]\n",
    "\n",
    "inv_space = space.copy()\n",
    "inv_space[space == 0] = 1\n",
    "inv_space = 1/inv_space\n",
    "\n",
    "hc_grad_avg = np.mean(hc_grad[roi_vals != 0, :], axis=2)\n",
    "ep_L_grad_avg = np.mean(ep_L_grad[roi_vals != 0, :], axis=2)\n",
    "ep_R_grad_avg = np.mean(ep_R_grad[roi_vals != 0, :], axis=2)\n",
    "\n",
    "# cluster using KMeans\n",
    "nc = 2\n",
    "null_temp_6017 = inv_space[roi_rel == 6017, :]\n",
    "null_kmeans_6017= KMeans(n_clusters=nc).fit(null_temp_6017).labels_\n",
    "\n",
    "null_temp_6053 = inv_space[roi_rel == 6053, :]\n",
    "null_kmeans_6053= KMeans(n_clusters=nc).fit(null_temp_6053).labels_\n",
    "\n",
    "# plot clusters\n",
    "cmap = plt.get_cmap('Paired')\n",
    "colors = cmap([1,0, 3, 2, 5, 4, 8])\n",
    "colors[1,:] = (colors[0,:] + 3*colors[1,:])/4\n",
    "colors[3,:] = (colors[2,:] + 3*colors[3,:])/4\n",
    "colors[5,:] = (colors[4,:] + 3*colors[5,:])/4\n",
    "\n",
    "ho_brain = np.empty((ho_sub_mask.shape))\n",
    "ho_brain[:] = np.nan\n",
    "ho_brain[ho==6017] = null_kmeans_6017\n",
    "ho_brain[ho==6053] = null_kmeans_6053\n",
    "\n",
    "for r in hippos:\n",
    "    dim = np.argmax(np.sum(ho == r, axis=(1,2)))\n",
    "    low_col = 4\n",
    "    high_col = 0\n",
    "\n",
    "    color_ho_brain = np.empty((ho_brain[dim,:,:].shape[0], ho_brain[dim,:,:].shape[1], 4))\n",
    "    color_ho_brain[:] = np.nan\n",
    "    color_ho_brain[ho_brain[dim,:,:] == 0,:] = colors[low_col,:]\n",
    "    color_ho_brain[ho_brain[dim,:,:] == 1,:] = colors[high_col,:]\n",
    "\n",
    "    fig, axs = plt.subplots(1,1, figsize=(5,5))\n",
    "    axs.imshow(color_ho_brain)\n",
    "    plt.title(r)\n",
    "    plt.show()"
   ]
  },
  {
   "cell_type": "markdown",
   "id": "b7c7b39d-0b5b-446c-894b-4afc1b2fc0b8",
   "metadata": {},
   "source": [
    "If the clusters are not aligned (ie posterior cluster should be the red for both, and anterior blue), run the appropriate of the following two lines of code to fix the colors and run the plots again to make sure."
   ]
  },
  {
   "cell_type": "code",
   "execution_count": null,
   "id": "79516399-02d3-4f49-bd5c-90f32df62fb8",
   "metadata": {},
   "outputs": [],
   "source": [
    "null_kmeans_6017 = 1 - null_kmeans_6017\n",
    "null_kmeans_6053 = 1 - null_kmeans_6053"
   ]
  },
  {
   "cell_type": "markdown",
   "id": "34e3c511-57d8-4056-97db-eac79aefaef6",
   "metadata": {},
   "source": [
    "Permutation Tests between Ipsilateral and Contralateral Anterior/Posterior Hippocampi"
   ]
  },
  {
   "cell_type": "code",
   "execution_count": null,
   "id": "e11b46f1-7653-40b3-99ef-bde24dbf5051",
   "metadata": {},
   "outputs": [],
   "source": [
    "# calculate true distances\n",
    "true_outcomes = np.zeros((2,2))\n",
    "\n",
    "for j in range(2): # [anterior, posterior]\n",
    "    \n",
    "    ep_L_temp = ep_L_grad_avg[roi_rel == 6017,:]\n",
    "    ep_R_temp = ep_R_grad_avg[roi_rel == 6053,:]\n",
    "    ep_L_temp = ep_L_temp[null_kmeans_6017 == j, 0:2]\n",
    "    ep_R_temp = ep_R_temp[null_kmeans_6053 == j, 0:2]\n",
    "    lr_kl = bhatta(ep_R_temp, ep_L_temp)\n",
    "    true_outcomes[j, 0] = lr_kl\n",
    "    \n",
    "    ep_L_temp = ep_L_grad_avg[roi_rel == 6053,:]\n",
    "    ep_R_temp = ep_R_grad_avg[roi_rel == 6017,:]\n",
    "    ep_L_temp = ep_L_temp[null_kmeans_6053 == j, 0:2]\n",
    "    ep_R_temp = ep_R_temp[null_kmeans_6017 == j, 0:2]\n",
    "    lr_kl = bhatta(ep_R_temp, ep_L_temp)\n",
    "    true_outcomes[j, 1] = lr_kl\n",
    "\n",
    "# run 1000 permutations\n",
    "perm_outcomes = np.zeros((2, perm_count, 2))\n",
    "\n",
    "for i in range(perm_count):\n",
    "    (ep_L_shuffle, ep_R_shuffle) = permute_groups(ep_L_grad[roi_vals != 0, 0:2, :], ep_R_grad[roi_vals != 0, 0:2, :])\n",
    "    ep_L_shuffle_avg = np.mean(ep_L_shuffle, axis=2)\n",
    "    ep_R_shuffle_avg = np.mean(ep_R_shuffle, axis=2)\n",
    "\n",
    "    for j in range(2):\n",
    "        \n",
    "        ep_L_temp = ep_L_shuffle_avg[roi_rel == 6017,:]\n",
    "        ep_R_temp = ep_R_shuffle_avg[roi_rel == 6053,:]\n",
    "        ep_L_temp = ep_L_temp[null_kmeans_6017 == j, 0:2]\n",
    "        ep_R_temp = ep_R_temp[null_kmeans_6053 == j, 0:2]\n",
    "        perm_outcomes[j, i, 0] = bhatta(ep_R_temp, ep_L_temp)\n",
    "        \n",
    "        ep_L_temp = ep_L_shuffle_avg[roi_rel == 6053,:]\n",
    "        ep_R_temp = ep_R_shuffle_avg[roi_rel == 6017,:]\n",
    "        ep_L_temp = ep_L_temp[null_kmeans_6053 == j, 0:2]\n",
    "        ep_R_temp = ep_R_temp[null_kmeans_6017 == j, 0:2]\n",
    "        perm_outcomes[j, i, 1] = bhatta(ep_R_temp, ep_L_temp)\n",
    "\n",
    "perm_sort = np.sort(perm_outcomes, axis=1)\n",
    "\n",
    "# plot resulting distributions and true values\n",
    "titles = ['Ipsilateral', 'Contralateral']\n",
    "ylabs = ['Red Cluster', 'Blue Cluster']\n",
    "\n",
    "fig, axs = plt.subplots(2, 2, figsize=(10, 10))\n",
    "for reg in range(2):\n",
    "    for i in range(2):\n",
    "        axs[reg, i].hist(perm_sort[reg, :, i], bins=25)\n",
    "        axs[reg, i].axvline(x=true_outcomes[reg, i], color='r')\n",
    "        axs[reg, i].axvline(\n",
    "            x=perm_sort[reg, int(.95*perm_outcomes.shape[1]), i], color='g')\n",
    "        axs[reg, i].set_title('%s' % (titles[i]))\n",
    "        axs[reg, i].set_ylabel('%s' % (ylabs[reg]))\n",
    "plt.show()"
   ]
  }
 ],
 "metadata": {
  "kernelspec": {
   "display_name": "Python 3",
   "language": "python",
   "name": "python3"
  },
  "language_info": {
   "codemirror_mode": {
    "name": "ipython",
    "version": 3
   },
   "file_extension": ".py",
   "mimetype": "text/x-python",
   "name": "python",
   "nbconvert_exporter": "python",
   "pygments_lexer": "ipython3",
   "version": "3.6.13"
  }
 },
 "nbformat": 4,
 "nbformat_minor": 5
}
